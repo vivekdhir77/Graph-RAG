{
 "cells": [
  {
   "cell_type": "code",
   "execution_count": 1,
   "metadata": {},
   "outputs": [],
   "source": [
    "serper_api_key = \"bcbb3c4db9caee4f584b488edf31aede4549a3f7\""
   ]
  },
  {
   "cell_type": "code",
   "execution_count": 4,
   "metadata": {},
   "outputs": [
    {
     "data": {
      "text/html": [
       "<pre style=\"white-space:pre;overflow-x:auto;line-height:normal;font-family:Menlo,'DejaVu Sans Mono',consolas,'Courier New',monospace\"><span style=\"color: #800000; text-decoration-color: #800000\">╭─────────────────────────────── </span><span style=\"color: #800000; text-decoration-color: #800000; font-weight: bold\">Traceback </span><span style=\"color: #bf7f7f; text-decoration-color: #bf7f7f; font-weight: bold\">(most recent call last)</span><span style=\"color: #800000; text-decoration-color: #800000\"> ────────────────────────────────╮</span>\n",
       "<span style=\"color: #800000; text-decoration-color: #800000\">│</span> in <span style=\"color: #00ff00; text-decoration-color: #00ff00\">&lt;module&gt;</span>:<span style=\"color: #0000ff; text-decoration-color: #0000ff\">10</span>                                                                                   <span style=\"color: #800000; text-decoration-color: #800000\">│</span>\n",
       "<span style=\"color: #800000; text-decoration-color: #800000\">│</span>                                                                                                  <span style=\"color: #800000; text-decoration-color: #800000\">│</span>\n",
       "<span style=\"color: #800000; text-decoration-color: #800000\">│</span>   <span style=\"color: #7f7f7f; text-decoration-color: #7f7f7f\"> 7 </span>                                                                                            <span style=\"color: #800000; text-decoration-color: #800000\">│</span>\n",
       "<span style=\"color: #800000; text-decoration-color: #800000\">│</span>   <span style=\"color: #7f7f7f; text-decoration-color: #7f7f7f\"> 8 </span>                                                                                            <span style=\"color: #800000; text-decoration-color: #800000\">│</span>\n",
       "<span style=\"color: #800000; text-decoration-color: #800000\">│</span>   <span style=\"color: #7f7f7f; text-decoration-color: #7f7f7f\"> 9 # Model Predict</span>                                                                             <span style=\"color: #800000; text-decoration-color: #800000\">│</span>\n",
       "<span style=\"color: #800000; text-decoration-color: #800000\">│</span> <span style=\"color: #800000; text-decoration-color: #800000\">❱ </span>10 model_prediction = Model(url=model_url,pat=<span style=\"color: #808000; text-decoration-color: #808000\">\"d6be07b54835407dbbb515de3782d2b2\"</span>).predict_b    <span style=\"color: #800000; text-decoration-color: #800000\">│</span>\n",
       "<span style=\"color: #800000; text-decoration-color: #800000\">│</span>   <span style=\"color: #7f7f7f; text-decoration-color: #7f7f7f\">11 </span>                                                                                            <span style=\"color: #800000; text-decoration-color: #800000\">│</span>\n",
       "<span style=\"color: #800000; text-decoration-color: #800000\">│</span>   <span style=\"color: #7f7f7f; text-decoration-color: #7f7f7f\">12 </span><span style=\"color: #00ffff; text-decoration-color: #00ffff\">print</span>(model_prediction.outputs[<span style=\"color: #0000ff; text-decoration-color: #0000ff\">0</span>].data.text.raw)                                            <span style=\"color: #800000; text-decoration-color: #800000\">│</span>\n",
       "<span style=\"color: #800000; text-decoration-color: #800000\">│</span>   <span style=\"color: #7f7f7f; text-decoration-color: #7f7f7f\">13 </span>                                                                                            <span style=\"color: #800000; text-decoration-color: #800000\">│</span>\n",
       "<span style=\"color: #800000; text-decoration-color: #800000\">│</span>                                                                                                  <span style=\"color: #800000; text-decoration-color: #800000\">│</span>\n",
       "<span style=\"color: #800000; text-decoration-color: #800000\">│</span> <span style=\"color: #bfbf7f; text-decoration-color: #bfbf7f\">/Users/vivekdhir77/.pyenv/versions/3.9.17/lib/python3.9/site-packages/clarifai/client/</span><span style=\"color: #808000; text-decoration-color: #808000; font-weight: bold\">model.py</span>:<span style=\"color: #0000ff; text-decoration-color: #0000ff\">6</span> <span style=\"color: #800000; text-decoration-color: #800000\">│</span>\n",
       "<span style=\"color: #800000; text-decoration-color: #800000\">│</span> <span style=\"color: #0000ff; text-decoration-color: #0000ff\">04</span> in <span style=\"color: #00ff00; text-decoration-color: #00ff00\">predict_by_bytes</span>                                                                           <span style=\"color: #800000; text-decoration-color: #800000\">│</span>\n",
       "<span style=\"color: #800000; text-decoration-color: #800000\">│</span>                                                                                                  <span style=\"color: #800000; text-decoration-color: #800000\">│</span>\n",
       "<span style=\"color: #800000; text-decoration-color: #800000\">│</span>   <span style=\"color: #7f7f7f; text-decoration-color: #7f7f7f\"> 601 </span><span style=\"color: #7f7f7f; text-decoration-color: #7f7f7f\">│     </span>runner_selector = Nodepool.get_runner_selector(                                     <span style=\"color: #800000; text-decoration-color: #800000\">│</span>\n",
       "<span style=\"color: #800000; text-decoration-color: #800000\">│</span>   <span style=\"color: #7f7f7f; text-decoration-color: #7f7f7f\"> 602 </span><span style=\"color: #7f7f7f; text-decoration-color: #7f7f7f\">│   │     </span>user_id=user_id, compute_cluster_id=compute_cluster_id, nodepool_id=nodepool_i  <span style=\"color: #800000; text-decoration-color: #800000\">│</span>\n",
       "<span style=\"color: #800000; text-decoration-color: #800000\">│</span>   <span style=\"color: #7f7f7f; text-decoration-color: #7f7f7f\"> 603 </span><span style=\"color: #7f7f7f; text-decoration-color: #7f7f7f\">│   </span>                                                                                      <span style=\"color: #800000; text-decoration-color: #800000\">│</span>\n",
       "<span style=\"color: #800000; text-decoration-color: #800000\">│</span> <span style=\"color: #800000; text-decoration-color: #800000\">❱ </span> 604 <span style=\"color: #7f7f7f; text-decoration-color: #7f7f7f\">│   </span><span style=\"color: #0000ff; text-decoration-color: #0000ff\">return</span> <span style=\"color: #00ffff; text-decoration-color: #00ffff\">self</span>.predict(                                                                  <span style=\"color: #800000; text-decoration-color: #800000\">│</span>\n",
       "<span style=\"color: #800000; text-decoration-color: #800000\">│</span>   <span style=\"color: #7f7f7f; text-decoration-color: #7f7f7f\"> 605 </span><span style=\"color: #7f7f7f; text-decoration-color: #7f7f7f\">│   │   </span>inputs=[input_proto],                                                             <span style=\"color: #800000; text-decoration-color: #800000\">│</span>\n",
       "<span style=\"color: #800000; text-decoration-color: #800000\">│</span>   <span style=\"color: #7f7f7f; text-decoration-color: #7f7f7f\"> 606 </span><span style=\"color: #7f7f7f; text-decoration-color: #7f7f7f\">│   │   </span>runner_selector=runner_selector,                                                  <span style=\"color: #800000; text-decoration-color: #800000\">│</span>\n",
       "<span style=\"color: #800000; text-decoration-color: #800000\">│</span>   <span style=\"color: #7f7f7f; text-decoration-color: #7f7f7f\"> 607 </span><span style=\"color: #7f7f7f; text-decoration-color: #7f7f7f\">│   │   </span>inference_params=inference_params,                                                <span style=\"color: #800000; text-decoration-color: #800000\">│</span>\n",
       "<span style=\"color: #800000; text-decoration-color: #800000\">│</span>                                                                                                  <span style=\"color: #800000; text-decoration-color: #800000\">│</span>\n",
       "<span style=\"color: #800000; text-decoration-color: #800000\">│</span> <span style=\"color: #bfbf7f; text-decoration-color: #bfbf7f\">/Users/vivekdhir77/.pyenv/versions/3.9.17/lib/python3.9/site-packages/clarifai/client/</span><span style=\"color: #808000; text-decoration-color: #808000; font-weight: bold\">model.py</span>:<span style=\"color: #0000ff; text-decoration-color: #0000ff\">4</span> <span style=\"color: #800000; text-decoration-color: #800000\">│</span>\n",
       "<span style=\"color: #800000; text-decoration-color: #800000\">│</span> <span style=\"color: #0000ff; text-decoration-color: #0000ff\">48</span> in <span style=\"color: #00ff00; text-decoration-color: #00ff00\">predict</span>                                                                                    <span style=\"color: #800000; text-decoration-color: #800000\">│</span>\n",
       "<span style=\"color: #800000; text-decoration-color: #800000\">│</span>                                                                                                  <span style=\"color: #800000; text-decoration-color: #800000\">│</span>\n",
       "<span style=\"color: #800000; text-decoration-color: #800000\">│</span>   <span style=\"color: #7f7f7f; text-decoration-color: #7f7f7f\"> 445 </span><span style=\"color: #7f7f7f; text-decoration-color: #7f7f7f\">│   │   </span><span style=\"color: #0000ff; text-decoration-color: #0000ff\">continue</span>                                                                          <span style=\"color: #800000; text-decoration-color: #800000\">│</span>\n",
       "<span style=\"color: #800000; text-decoration-color: #800000\">│</span>   <span style=\"color: #7f7f7f; text-decoration-color: #7f7f7f\"> 446 </span><span style=\"color: #7f7f7f; text-decoration-color: #7f7f7f\">│     </span>                                                                                    <span style=\"color: #800000; text-decoration-color: #800000\">│</span>\n",
       "<span style=\"color: #800000; text-decoration-color: #800000\">│</span>   <span style=\"color: #7f7f7f; text-decoration-color: #7f7f7f\"> 447 </span><span style=\"color: #7f7f7f; text-decoration-color: #7f7f7f\">│     </span><span style=\"color: #0000ff; text-decoration-color: #0000ff\">if</span> response.status.code != status_code_pb2.SUCCESS:                                 <span style=\"color: #800000; text-decoration-color: #800000\">│</span>\n",
       "<span style=\"color: #800000; text-decoration-color: #800000\">│</span> <span style=\"color: #800000; text-decoration-color: #800000\">❱ </span> 448 <span style=\"color: #7f7f7f; text-decoration-color: #7f7f7f\">│   │   </span><span style=\"color: #0000ff; text-decoration-color: #0000ff\">raise</span> <span style=\"color: #00ffff; text-decoration-color: #00ffff\">Exception</span>(<span style=\"color: #808000; text-decoration-color: #808000\">f\"Model Predict failed with response {</span>response.status<span style=\"color: #808000; text-decoration-color: #808000\">!r}\"</span>)        <span style=\"color: #800000; text-decoration-color: #800000\">│</span>\n",
       "<span style=\"color: #800000; text-decoration-color: #800000\">│</span>   <span style=\"color: #7f7f7f; text-decoration-color: #7f7f7f\"> 449 </span><span style=\"color: #7f7f7f; text-decoration-color: #7f7f7f\">│     </span><span style=\"color: #0000ff; text-decoration-color: #0000ff\">else</span>:                                                                               <span style=\"color: #800000; text-decoration-color: #800000\">│</span>\n",
       "<span style=\"color: #800000; text-decoration-color: #800000\">│</span>   <span style=\"color: #7f7f7f; text-decoration-color: #7f7f7f\"> 450 </span><span style=\"color: #7f7f7f; text-decoration-color: #7f7f7f\">│   │   </span><span style=\"color: #0000ff; text-decoration-color: #0000ff\">break</span>                                                                             <span style=\"color: #800000; text-decoration-color: #800000\">│</span>\n",
       "<span style=\"color: #800000; text-decoration-color: #800000\">│</span>   <span style=\"color: #7f7f7f; text-decoration-color: #7f7f7f\"> 451 </span>                                                                                          <span style=\"color: #800000; text-decoration-color: #800000\">│</span>\n",
       "<span style=\"color: #800000; text-decoration-color: #800000\">╰──────────────────────────────────────────────────────────────────────────────────────────────────╯</span>\n",
       "<span style=\"color: #ff0000; text-decoration-color: #ff0000; font-weight: bold\">Exception: </span>Model Predict failed with response code: CONN_EXCEEDS_LIMITS\n",
       "description: <span style=\"color: #008000; text-decoration-color: #008000\">\"Account limits exceeded\"</span>\n",
       "details: <span style=\"color: #008000; text-decoration-color: #008000\">\"Request exceeds \\\"Custom Cost Predict\\\" limit. Please contact support@clarifai.com or upgrade your plan.\"</span>\n",
       "req_id: <span style=\"color: #008000; text-decoration-color: #008000\">\"sdk-python-11.1.7-8257cf7cb566409c8ff04b5b6cb46c52\"</span>\n",
       "\n",
       "</pre>\n"
      ],
      "text/plain": [
       "\u001b[31m╭─\u001b[0m\u001b[31m──────────────────────────────\u001b[0m\u001b[31m \u001b[0m\u001b[1;31mTraceback \u001b[0m\u001b[1;2;31m(most recent call last)\u001b[0m\u001b[31m \u001b[0m\u001b[31m───────────────────────────────\u001b[0m\u001b[31m─╮\u001b[0m\n",
       "\u001b[31m│\u001b[0m in \u001b[92m<module>\u001b[0m:\u001b[94m10\u001b[0m                                                                                   \u001b[31m│\u001b[0m\n",
       "\u001b[31m│\u001b[0m                                                                                                  \u001b[31m│\u001b[0m\n",
       "\u001b[31m│\u001b[0m   \u001b[2m 7 \u001b[0m                                                                                            \u001b[31m│\u001b[0m\n",
       "\u001b[31m│\u001b[0m   \u001b[2m 8 \u001b[0m                                                                                            \u001b[31m│\u001b[0m\n",
       "\u001b[31m│\u001b[0m   \u001b[2m 9 \u001b[0m\u001b[2m# Model Predict\u001b[0m                                                                             \u001b[31m│\u001b[0m\n",
       "\u001b[31m│\u001b[0m \u001b[31m❱ \u001b[0m10 model_prediction = Model(url=model_url,pat=\u001b[33m\"\u001b[0m\u001b[33md6be07b54835407dbbb515de3782d2b2\u001b[0m\u001b[33m\"\u001b[0m).predict_b    \u001b[31m│\u001b[0m\n",
       "\u001b[31m│\u001b[0m   \u001b[2m11 \u001b[0m                                                                                            \u001b[31m│\u001b[0m\n",
       "\u001b[31m│\u001b[0m   \u001b[2m12 \u001b[0m\u001b[96mprint\u001b[0m(model_prediction.outputs[\u001b[94m0\u001b[0m].data.text.raw)                                            \u001b[31m│\u001b[0m\n",
       "\u001b[31m│\u001b[0m   \u001b[2m13 \u001b[0m                                                                                            \u001b[31m│\u001b[0m\n",
       "\u001b[31m│\u001b[0m                                                                                                  \u001b[31m│\u001b[0m\n",
       "\u001b[31m│\u001b[0m \u001b[2;33m/Users/vivekdhir77/.pyenv/versions/3.9.17/lib/python3.9/site-packages/clarifai/client/\u001b[0m\u001b[1;33mmodel.py\u001b[0m:\u001b[94m6\u001b[0m \u001b[31m│\u001b[0m\n",
       "\u001b[31m│\u001b[0m \u001b[94m04\u001b[0m in \u001b[92mpredict_by_bytes\u001b[0m                                                                           \u001b[31m│\u001b[0m\n",
       "\u001b[31m│\u001b[0m                                                                                                  \u001b[31m│\u001b[0m\n",
       "\u001b[31m│\u001b[0m   \u001b[2m 601 \u001b[0m\u001b[2m│     \u001b[0mrunner_selector = Nodepool.get_runner_selector(                                     \u001b[31m│\u001b[0m\n",
       "\u001b[31m│\u001b[0m   \u001b[2m 602 \u001b[0m\u001b[2m│   │     \u001b[0muser_id=user_id, compute_cluster_id=compute_cluster_id, nodepool_id=nodepool_i  \u001b[31m│\u001b[0m\n",
       "\u001b[31m│\u001b[0m   \u001b[2m 603 \u001b[0m\u001b[2m│   \u001b[0m                                                                                      \u001b[31m│\u001b[0m\n",
       "\u001b[31m│\u001b[0m \u001b[31m❱ \u001b[0m 604 \u001b[2m│   \u001b[0m\u001b[94mreturn\u001b[0m \u001b[96mself\u001b[0m.predict(                                                                  \u001b[31m│\u001b[0m\n",
       "\u001b[31m│\u001b[0m   \u001b[2m 605 \u001b[0m\u001b[2m│   │   \u001b[0minputs=[input_proto],                                                             \u001b[31m│\u001b[0m\n",
       "\u001b[31m│\u001b[0m   \u001b[2m 606 \u001b[0m\u001b[2m│   │   \u001b[0mrunner_selector=runner_selector,                                                  \u001b[31m│\u001b[0m\n",
       "\u001b[31m│\u001b[0m   \u001b[2m 607 \u001b[0m\u001b[2m│   │   \u001b[0minference_params=inference_params,                                                \u001b[31m│\u001b[0m\n",
       "\u001b[31m│\u001b[0m                                                                                                  \u001b[31m│\u001b[0m\n",
       "\u001b[31m│\u001b[0m \u001b[2;33m/Users/vivekdhir77/.pyenv/versions/3.9.17/lib/python3.9/site-packages/clarifai/client/\u001b[0m\u001b[1;33mmodel.py\u001b[0m:\u001b[94m4\u001b[0m \u001b[31m│\u001b[0m\n",
       "\u001b[31m│\u001b[0m \u001b[94m48\u001b[0m in \u001b[92mpredict\u001b[0m                                                                                    \u001b[31m│\u001b[0m\n",
       "\u001b[31m│\u001b[0m                                                                                                  \u001b[31m│\u001b[0m\n",
       "\u001b[31m│\u001b[0m   \u001b[2m 445 \u001b[0m\u001b[2m│   │   \u001b[0m\u001b[94mcontinue\u001b[0m                                                                          \u001b[31m│\u001b[0m\n",
       "\u001b[31m│\u001b[0m   \u001b[2m 446 \u001b[0m\u001b[2m│     \u001b[0m                                                                                    \u001b[31m│\u001b[0m\n",
       "\u001b[31m│\u001b[0m   \u001b[2m 447 \u001b[0m\u001b[2m│     \u001b[0m\u001b[94mif\u001b[0m response.status.code != status_code_pb2.SUCCESS:                                 \u001b[31m│\u001b[0m\n",
       "\u001b[31m│\u001b[0m \u001b[31m❱ \u001b[0m 448 \u001b[2m│   │   \u001b[0m\u001b[94mraise\u001b[0m \u001b[96mException\u001b[0m(\u001b[33mf\u001b[0m\u001b[33m\"\u001b[0m\u001b[33mModel Predict failed with response \u001b[0m\u001b[33m{\u001b[0mresponse.status\u001b[33m!r}\u001b[0m\u001b[33m\"\u001b[0m)        \u001b[31m│\u001b[0m\n",
       "\u001b[31m│\u001b[0m   \u001b[2m 449 \u001b[0m\u001b[2m│     \u001b[0m\u001b[94melse\u001b[0m:                                                                               \u001b[31m│\u001b[0m\n",
       "\u001b[31m│\u001b[0m   \u001b[2m 450 \u001b[0m\u001b[2m│   │   \u001b[0m\u001b[94mbreak\u001b[0m                                                                             \u001b[31m│\u001b[0m\n",
       "\u001b[31m│\u001b[0m   \u001b[2m 451 \u001b[0m                                                                                          \u001b[31m│\u001b[0m\n",
       "\u001b[31m╰──────────────────────────────────────────────────────────────────────────────────────────────────╯\u001b[0m\n",
       "\u001b[1;91mException: \u001b[0mModel Predict failed with response code: CONN_EXCEEDS_LIMITS\n",
       "description: \u001b[32m\"Account limits exceeded\"\u001b[0m\n",
       "details: \u001b[32m\"Request exceeds \\\"Custom Cost Predict\\\" limit. Please contact support@clarifai.com or upgrade your plan.\"\u001b[0m\n",
       "req_id: \u001b[32m\"sdk-python-11.1.7-8257cf7cb566409c8ff04b5b6cb46c52\"\u001b[0m\n",
       "\n"
      ]
     },
     "metadata": {},
     "output_type": "display_data"
    }
   ],
   "source": [
    "\n",
    "from clarifai.client.model import Model\n",
    "\n",
    "# Your PAT (Personal Access Token) can be found in the Account's Security section\n",
    "prompt = \"What's the futuree of AI?\"\n",
    "# You can set the model using model URL or model ID.\n",
    "model_url=\"https://clarifai.com/meta/Llama-3/models/llama-3-70B-Instruct\"\n",
    "\n",
    "\n",
    "# Model Predict\n",
    "model_prediction = Model(url=model_url,pat=\"d6be07b54835407dbbb515de3782d2b2\").predict_by_bytes(prompt.encode(), input_type=\"text\")\n",
    "\n",
    "print(model_prediction.outputs[0].data.text.raw)\n"
   ]
  },
  {
   "cell_type": "code",
   "execution_count": 3,
   "metadata": {},
   "outputs": [
    {
     "name": "stdout",
     "output_type": "stream",
     "text": [
      "Collecting clarifai\n",
      "  Downloading clarifai-11.1.7-py3-none-any.whl (172 kB)\n",
      "\u001b[2K     \u001b[90m━━━━━━━━━━━━━━━━━━━━━━━━━━━━━━━━━━━━━━━\u001b[0m \u001b[32m172.7/172.7 kB\u001b[0m \u001b[31m2.1 MB/s\u001b[0m eta \u001b[36m0:00:00\u001b[0ma \u001b[36m0:00:01\u001b[0m\n",
      "\u001b[?25hCollecting clarifai-grpc>=11.1.3\n",
      "  Downloading clarifai_grpc-11.2.2-py3-none-any.whl (270 kB)\n",
      "\u001b[2K     \u001b[90m━━━━━━━━━━━━━━━━━━━━━━━━━━━━━━━━━━━━━━━\u001b[0m \u001b[32m270.7/270.7 kB\u001b[0m \u001b[31m7.3 MB/s\u001b[0m eta \u001b[36m0:00:00\u001b[0m\n",
      "\u001b[?25hCollecting tabulate>=0.9.0\n",
      "  Downloading tabulate-0.9.0-py3-none-any.whl (35 kB)\n",
      "Requirement already satisfied: click>=8.1.7 in /Users/vivekdhir77/.pyenv/versions/3.9.17/lib/python3.9/site-packages (from clarifai) (8.1.8)\n",
      "Requirement already satisfied: tqdm>=4.65.0 in /Users/vivekdhir77/.pyenv/versions/3.9.17/lib/python3.9/site-packages (from clarifai) (4.67.1)\n",
      "Requirement already satisfied: requests>=2.32.3 in /Users/vivekdhir77/.pyenv/versions/3.9.17/lib/python3.9/site-packages (from clarifai) (2.32.3)\n",
      "Requirement already satisfied: fsspec>=2024.6.1 in /Users/vivekdhir77/.pyenv/versions/3.9.17/lib/python3.9/site-packages (from clarifai) (2024.12.0)\n",
      "Collecting schema==0.7.5\n",
      "  Downloading schema-0.7.5-py2.py3-none-any.whl (17 kB)\n",
      "Requirement already satisfied: PyYAML>=6.0.1 in /Users/vivekdhir77/.pyenv/versions/3.9.17/lib/python3.9/site-packages (from clarifai) (6.0.2)\n",
      "Collecting clarifai-protocol>=0.0.16\n",
      "  Downloading clarifai_protocol-0.0.19-cp39-cp39-macosx_11_0_universal2.whl (211 kB)\n",
      "\u001b[2K     \u001b[90m━━━━━━━━━━━━━━━━━━━━━━━━━━━━━━━━━━━━━━\u001b[0m \u001b[32m211.8/211.8 kB\u001b[0m \u001b[31m19.9 MB/s\u001b[0m eta \u001b[36m0:00:00\u001b[0m\n",
      "\u001b[?25hRequirement already satisfied: Pillow>=9.5.0 in /Users/vivekdhir77/.pyenv/versions/3.9.17/lib/python3.9/site-packages (from clarifai) (11.0.0)\n",
      "Requirement already satisfied: rich>=13.4.2 in /Users/vivekdhir77/.pyenv/versions/3.9.17/lib/python3.9/site-packages (from clarifai) (13.9.4)\n",
      "Requirement already satisfied: numpy>=1.22.0 in /Users/vivekdhir77/.pyenv/versions/3.9.17/lib/python3.9/site-packages (from clarifai) (1.26.4)\n",
      "Collecting contextlib2>=0.5.5\n",
      "  Downloading contextlib2-21.6.0-py2.py3-none-any.whl (13 kB)\n",
      "Requirement already satisfied: googleapis-common-protos>=1.57.0 in /Users/vivekdhir77/.pyenv/versions/3.9.17/lib/python3.9/site-packages (from clarifai-grpc>=11.1.3->clarifai) (1.66.0)\n",
      "Requirement already satisfied: protobuf>=3.20.3 in /Users/vivekdhir77/.pyenv/versions/3.9.17/lib/python3.9/site-packages (from clarifai-grpc>=11.1.3->clarifai) (5.29.2)\n",
      "Requirement already satisfied: grpcio>=1.53.2 in /Users/vivekdhir77/.pyenv/versions/3.9.17/lib/python3.9/site-packages (from clarifai-grpc>=11.1.3->clarifai) (1.68.1)\n",
      "Requirement already satisfied: urllib3<3,>=1.21.1 in /Users/vivekdhir77/.pyenv/versions/3.9.17/lib/python3.9/site-packages (from requests>=2.32.3->clarifai) (2.3.0)\n",
      "Requirement already satisfied: idna<4,>=2.5 in /Users/vivekdhir77/.pyenv/versions/3.9.17/lib/python3.9/site-packages (from requests>=2.32.3->clarifai) (3.10)\n",
      "Requirement already satisfied: certifi>=2017.4.17 in /Users/vivekdhir77/.pyenv/versions/3.9.17/lib/python3.9/site-packages (from requests>=2.32.3->clarifai) (2024.12.14)\n",
      "Requirement already satisfied: charset-normalizer<4,>=2 in /Users/vivekdhir77/.pyenv/versions/3.9.17/lib/python3.9/site-packages (from requests>=2.32.3->clarifai) (3.4.0)\n",
      "Requirement already satisfied: pygments<3.0.0,>=2.13.0 in /Users/vivekdhir77/.pyenv/versions/3.9.17/lib/python3.9/site-packages (from rich>=13.4.2->clarifai) (2.18.0)\n",
      "Requirement already satisfied: typing-extensions<5.0,>=4.0.0 in /Users/vivekdhir77/.pyenv/versions/3.9.17/lib/python3.9/site-packages (from rich>=13.4.2->clarifai) (4.12.2)\n",
      "Requirement already satisfied: markdown-it-py>=2.2.0 in /Users/vivekdhir77/.pyenv/versions/3.9.17/lib/python3.9/site-packages (from rich>=13.4.2->clarifai) (3.0.0)\n",
      "Requirement already satisfied: mdurl~=0.1 in /Users/vivekdhir77/.pyenv/versions/3.9.17/lib/python3.9/site-packages (from markdown-it-py>=2.2.0->rich>=13.4.2->clarifai) (0.1.2)\n",
      "Installing collected packages: tabulate, contextlib2, schema, clarifai-grpc, clarifai-protocol, clarifai\n",
      "Successfully installed clarifai-11.1.7 clarifai-grpc-11.2.2 clarifai-protocol-0.0.19 contextlib2-21.6.0 schema-0.7.5 tabulate-0.9.0\n",
      "\n",
      "\u001b[1m[\u001b[0m\u001b[34;49mnotice\u001b[0m\u001b[1;39;49m]\u001b[0m\u001b[39;49m A new release of pip is available: \u001b[0m\u001b[31;49m23.0.1\u001b[0m\u001b[39;49m -> \u001b[0m\u001b[32;49m25.0.1\u001b[0m\n",
      "\u001b[1m[\u001b[0m\u001b[34;49mnotice\u001b[0m\u001b[1;39;49m]\u001b[0m\u001b[39;49m To update, run: \u001b[0m\u001b[32;49mpip install --upgrade pip\u001b[0m\n"
     ]
    }
   ],
   "source": [
    "!pip install clarifai"
   ]
  },
  {
   "cell_type": "code",
   "execution_count": null,
   "metadata": {},
   "outputs": [],
   "source": []
  }
 ],
 "metadata": {
  "kernelspec": {
   "display_name": "Python 3",
   "language": "python",
   "name": "python3"
  },
  "language_info": {
   "codemirror_mode": {
    "name": "ipython",
    "version": 3
   },
   "file_extension": ".py",
   "mimetype": "text/x-python",
   "name": "python",
   "nbconvert_exporter": "python",
   "pygments_lexer": "ipython3",
   "version": "3.9.17"
  }
 },
 "nbformat": 4,
 "nbformat_minor": 2
}
